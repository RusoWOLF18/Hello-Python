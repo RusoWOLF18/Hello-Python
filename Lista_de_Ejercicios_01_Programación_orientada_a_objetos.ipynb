{
  "nbformat": 4,
  "nbformat_minor": 0,
  "metadata": {
    "colab": {
      "provenance": [],
      "authorship_tag": "ABX9TyPe+KFSIdBfqLDek1q2xTi2",
      "include_colab_link": true
    },
    "kernelspec": {
      "name": "python3",
      "display_name": "Python 3"
    },
    "language_info": {
      "name": "python"
    }
  },
  "cells": [
    {
      "cell_type": "markdown",
      "metadata": {
        "id": "view-in-github",
        "colab_type": "text"
      },
      "source": [
        "<a href=\"https://colab.research.google.com/github/RusoWOLF18/Hello-Python/blob/main/Lista_de_Ejercicios_01_Programaci%C3%B3n_orientada_a_objetos.ipynb\" target=\"_parent\"><img src=\"https://colab.research.google.com/assets/colab-badge.svg\" alt=\"Open In Colab\"/></a>"
      ]
    },
    {
      "cell_type": "code",
      "execution_count": null,
      "metadata": {
        "id": "zlESxcg0uadS"
      },
      "outputs": [],
      "source": [
        "class Autor:\n",
        "  def _init_(self, Nombre, Apellido, Pais):\n",
        "    self.Nombre = Nombre\n",
        "    self.Apellido = Apellido\n",
        "    self.Pais = Pais\n",
        "  def MostrarNombre(self):\n",
        "    return self.nombre\n",
        "  def "
      ]
    }
  ]
}